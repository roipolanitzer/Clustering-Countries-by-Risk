{
 "cells": [
  {
   "cell_type": "code",
   "execution_count": 1,
   "metadata": {},
   "outputs": [],
   "source": [
    "import pandas as pd\n",
    "import numpy as np\n",
    "\n",
    "# plotting packages\n",
    "%matplotlib inline\n",
    "import matplotlib\n",
    "matplotlib.rcParams['figure.figsize'] = (10.0, 6.0)\n",
    "import matplotlib.pyplot as plt\n",
    "import seaborn as sns\n",
    "from mpl_toolkits.mplot3d import Axes3D\n",
    "import matplotlib.pyplot as plt\n",
    "import matplotlib.cm as cm\n",
    "import matplotlib.colors as clrs\n",
    "# Kmeans algorithm from scikit-learn\n",
    "from sklearn.cluster import KMeans\n",
    "from sklearn.metrics import silhouette_samples, silhouette_score\n",
    "# PCA algorithm from scikit-learn\n",
    "from sklearn.decomposition import PCA"
   ]
  },
  {
   "cell_type": "markdown",
   "metadata": {},
   "source": [
    "# Loading the Dataset"
   ]
  },
  {
   "cell_type": "code",
   "execution_count": 2,
   "metadata": {},
   "outputs": [
    {
     "name": "stdout",
     "output_type": "stream",
     "text": [
      "(157, 6)\n",
      "Index(['Country', 'Moody's rating', 'Rating Coding',\n",
      "       'Rating-based Default Spread', 'Total Equity Risk Premium',\n",
      "       'Country Risk Premium'],\n",
      "      dtype='object')\n"
     ]
    }
   ],
   "source": [
    "data = pd.read_csv('Country_Risk_Premiums.csv')\n",
    "data = data.dropna()\n",
    "print(data.shape)\n",
    "print(data.columns)"
   ]
  },
  {
   "cell_type": "code",
   "execution_count": 3,
   "metadata": {},
   "outputs": [
    {
     "data": {
      "text/html": [
       "<div>\n",
       "<style scoped>\n",
       "    .dataframe tbody tr th:only-of-type {\n",
       "        vertical-align: middle;\n",
       "    }\n",
       "\n",
       "    .dataframe tbody tr th {\n",
       "        vertical-align: top;\n",
       "    }\n",
       "\n",
       "    .dataframe thead th {\n",
       "        text-align: right;\n",
       "    }\n",
       "</style>\n",
       "<table border=\"1\" class=\"dataframe\">\n",
       "  <thead>\n",
       "    <tr style=\"text-align: right;\">\n",
       "      <th></th>\n",
       "      <th>Country</th>\n",
       "      <th>Moody's rating</th>\n",
       "      <th>Rating Coding</th>\n",
       "      <th>Rating-based Default Spread</th>\n",
       "      <th>Total Equity Risk Premium</th>\n",
       "      <th>Country Risk Premium</th>\n",
       "    </tr>\n",
       "  </thead>\n",
       "  <tbody>\n",
       "    <tr>\n",
       "      <th>0</th>\n",
       "      <td>Abu Dhabi</td>\n",
       "      <td>Aa2</td>\n",
       "      <td>3</td>\n",
       "      <td>0.007</td>\n",
       "      <td>0.069</td>\n",
       "      <td>0.009</td>\n",
       "    </tr>\n",
       "    <tr>\n",
       "      <th>1</th>\n",
       "      <td>Albania</td>\n",
       "      <td>B1</td>\n",
       "      <td>14</td>\n",
       "      <td>0.067</td>\n",
       "      <td>0.142</td>\n",
       "      <td>0.082</td>\n",
       "    </tr>\n",
       "    <tr>\n",
       "      <th>2</th>\n",
       "      <td>Andorra (Principality of)</td>\n",
       "      <td>Baa2</td>\n",
       "      <td>9</td>\n",
       "      <td>0.028</td>\n",
       "      <td>0.095</td>\n",
       "      <td>0.035</td>\n",
       "    </tr>\n",
       "    <tr>\n",
       "      <th>3</th>\n",
       "      <td>Angola</td>\n",
       "      <td>B3</td>\n",
       "      <td>16</td>\n",
       "      <td>0.096</td>\n",
       "      <td>0.179</td>\n",
       "      <td>0.119</td>\n",
       "    </tr>\n",
       "    <tr>\n",
       "      <th>4</th>\n",
       "      <td>Argentina</td>\n",
       "      <td>Ca</td>\n",
       "      <td>20</td>\n",
       "      <td>0.150</td>\n",
       "      <td>0.245</td>\n",
       "      <td>0.185</td>\n",
       "    </tr>\n",
       "  </tbody>\n",
       "</table>\n",
       "</div>"
      ],
      "text/plain": [
       "                     Country Moody's rating  Rating Coding  \\\n",
       "0                  Abu Dhabi            Aa2              3   \n",
       "1                    Albania             B1             14   \n",
       "2  Andorra (Principality of)           Baa2              9   \n",
       "3                     Angola             B3             16   \n",
       "4                  Argentina             Ca             20   \n",
       "\n",
       "   Rating-based Default Spread  Total Equity Risk Premium  \\\n",
       "0                        0.007                      0.069   \n",
       "1                        0.067                      0.142   \n",
       "2                        0.028                      0.095   \n",
       "3                        0.096                      0.179   \n",
       "4                        0.150                      0.245   \n",
       "\n",
       "   Country Risk Premium  \n",
       "0                 0.009  \n",
       "1                 0.082  \n",
       "2                 0.035  \n",
       "3                 0.119  \n",
       "4                 0.185  "
      ]
     },
     "execution_count": 3,
     "metadata": {},
     "output_type": "execute_result"
    }
   ],
   "source": [
    "data.head()"
   ]
  },
  {
   "cell_type": "code",
   "execution_count": 4,
   "metadata": {},
   "outputs": [
    {
     "data": {
      "text/html": [
       "<div>\n",
       "<style scoped>\n",
       "    .dataframe tbody tr th:only-of-type {\n",
       "        vertical-align: middle;\n",
       "    }\n",
       "\n",
       "    .dataframe tbody tr th {\n",
       "        vertical-align: top;\n",
       "    }\n",
       "\n",
       "    .dataframe thead th {\n",
       "        text-align: right;\n",
       "    }\n",
       "</style>\n",
       "<table border=\"1\" class=\"dataframe\">\n",
       "  <thead>\n",
       "    <tr style=\"text-align: right;\">\n",
       "      <th></th>\n",
       "      <th>Country</th>\n",
       "      <th>Moody's rating</th>\n",
       "      <th>Rating Coding</th>\n",
       "      <th>Rating-based Default Spread</th>\n",
       "      <th>Total Equity Risk Premium</th>\n",
       "      <th>Country Risk Premium</th>\n",
       "    </tr>\n",
       "  </thead>\n",
       "  <tbody>\n",
       "    <tr>\n",
       "      <th>152</th>\n",
       "      <td>Uruguay</td>\n",
       "      <td>Baa2</td>\n",
       "      <td>9</td>\n",
       "      <td>0.028</td>\n",
       "      <td>0.095</td>\n",
       "      <td>0.035</td>\n",
       "    </tr>\n",
       "    <tr>\n",
       "      <th>153</th>\n",
       "      <td>Uzbekistan</td>\n",
       "      <td>B1</td>\n",
       "      <td>14</td>\n",
       "      <td>0.067</td>\n",
       "      <td>0.142</td>\n",
       "      <td>0.082</td>\n",
       "    </tr>\n",
       "    <tr>\n",
       "      <th>154</th>\n",
       "      <td>Venezuela</td>\n",
       "      <td>C</td>\n",
       "      <td>21</td>\n",
       "      <td>0.150</td>\n",
       "      <td>0.245</td>\n",
       "      <td>0.185</td>\n",
       "    </tr>\n",
       "    <tr>\n",
       "      <th>155</th>\n",
       "      <td>Vietnam</td>\n",
       "      <td>Ba3</td>\n",
       "      <td>13</td>\n",
       "      <td>0.053</td>\n",
       "      <td>0.126</td>\n",
       "      <td>0.066</td>\n",
       "    </tr>\n",
       "    <tr>\n",
       "      <th>156</th>\n",
       "      <td>Zambia</td>\n",
       "      <td>Ca</td>\n",
       "      <td>20</td>\n",
       "      <td>0.150</td>\n",
       "      <td>0.245</td>\n",
       "      <td>0.185</td>\n",
       "    </tr>\n",
       "  </tbody>\n",
       "</table>\n",
       "</div>"
      ],
      "text/plain": [
       "        Country Moody's rating  Rating Coding  Rating-based Default Spread  \\\n",
       "152     Uruguay           Baa2              9                        0.028   \n",
       "153  Uzbekistan             B1             14                        0.067   \n",
       "154   Venezuela              C             21                        0.150   \n",
       "155     Vietnam            Ba3             13                        0.053   \n",
       "156      Zambia             Ca             20                        0.150   \n",
       "\n",
       "     Total Equity Risk Premium  Country Risk Premium  \n",
       "152                      0.095                 0.035  \n",
       "153                      0.142                 0.082  \n",
       "154                      0.245                 0.185  \n",
       "155                      0.126                 0.066  \n",
       "156                      0.245                 0.185  "
      ]
     },
     "execution_count": 4,
     "metadata": {},
     "output_type": "execute_result"
    }
   ],
   "source": [
    "data.tail()"
   ]
  },
  {
   "cell_type": "code",
   "execution_count": 5,
   "metadata": {},
   "outputs": [
    {
     "name": "stdout",
     "output_type": "stream",
     "text": [
      "<class 'pandas.core.frame.DataFrame'>\n",
      "Int64Index: 157 entries, 0 to 156\n",
      "Data columns (total 6 columns):\n",
      "Country                        157 non-null object\n",
      "Moody's rating                 157 non-null object\n",
      "Rating Coding                  157 non-null int64\n",
      "Rating-based Default Spread    157 non-null float64\n",
      "Total Equity Risk Premium      157 non-null float64\n",
      "Country Risk Premium           157 non-null float64\n",
      "dtypes: float64(3), int64(1), object(2)\n",
      "memory usage: 8.6+ KB\n"
     ]
    }
   ],
   "source": [
    "data.info()"
   ]
  },
  {
   "cell_type": "code",
   "execution_count": 6,
   "metadata": {},
   "outputs": [
    {
     "data": {
      "text/html": [
       "<div>\n",
       "<style scoped>\n",
       "    .dataframe tbody tr th:only-of-type {\n",
       "        vertical-align: middle;\n",
       "    }\n",
       "\n",
       "    .dataframe tbody tr th {\n",
       "        vertical-align: top;\n",
       "    }\n",
       "\n",
       "    .dataframe thead th {\n",
       "        text-align: right;\n",
       "    }\n",
       "</style>\n",
       "<table border=\"1\" class=\"dataframe\">\n",
       "  <thead>\n",
       "    <tr style=\"text-align: right;\">\n",
       "      <th></th>\n",
       "      <th>Rating Coding</th>\n",
       "      <th>Rating-based Default Spread</th>\n",
       "      <th>Total Equity Risk Premium</th>\n",
       "      <th>Country Risk Premium</th>\n",
       "    </tr>\n",
       "  </thead>\n",
       "  <tbody>\n",
       "    <tr>\n",
       "      <th>count</th>\n",
       "      <td>157.000000</td>\n",
       "      <td>157.000000</td>\n",
       "      <td>157.000000</td>\n",
       "      <td>157.000000</td>\n",
       "    </tr>\n",
       "    <tr>\n",
       "      <th>mean</th>\n",
       "      <td>10.509554</td>\n",
       "      <td>0.050408</td>\n",
       "      <td>0.122178</td>\n",
       "      <td>0.062178</td>\n",
       "    </tr>\n",
       "    <tr>\n",
       "      <th>std</th>\n",
       "      <td>5.371599</td>\n",
       "      <td>0.040299</td>\n",
       "      <td>0.049746</td>\n",
       "      <td>0.049746</td>\n",
       "    </tr>\n",
       "    <tr>\n",
       "      <th>min</th>\n",
       "      <td>1.000000</td>\n",
       "      <td>0.000000</td>\n",
       "      <td>0.060000</td>\n",
       "      <td>0.000000</td>\n",
       "    </tr>\n",
       "    <tr>\n",
       "      <th>25%</th>\n",
       "      <td>6.000000</td>\n",
       "      <td>0.013000</td>\n",
       "      <td>0.076000</td>\n",
       "      <td>0.016000</td>\n",
       "    </tr>\n",
       "    <tr>\n",
       "      <th>50%</th>\n",
       "      <td>11.000000</td>\n",
       "      <td>0.037000</td>\n",
       "      <td>0.106000</td>\n",
       "      <td>0.046000</td>\n",
       "    </tr>\n",
       "    <tr>\n",
       "      <th>75%</th>\n",
       "      <td>15.000000</td>\n",
       "      <td>0.082000</td>\n",
       "      <td>0.161000</td>\n",
       "      <td>0.101000</td>\n",
       "    </tr>\n",
       "    <tr>\n",
       "      <th>max</th>\n",
       "      <td>21.000000</td>\n",
       "      <td>0.150000</td>\n",
       "      <td>0.245000</td>\n",
       "      <td>0.185000</td>\n",
       "    </tr>\n",
       "  </tbody>\n",
       "</table>\n",
       "</div>"
      ],
      "text/plain": [
       "       Rating Coding  Rating-based Default Spread  Total Equity Risk Premium  \\\n",
       "count     157.000000                   157.000000                 157.000000   \n",
       "mean       10.509554                     0.050408                   0.122178   \n",
       "std         5.371599                     0.040299                   0.049746   \n",
       "min         1.000000                     0.000000                   0.060000   \n",
       "25%         6.000000                     0.013000                   0.076000   \n",
       "50%        11.000000                     0.037000                   0.106000   \n",
       "75%        15.000000                     0.082000                   0.161000   \n",
       "max        21.000000                     0.150000                   0.245000   \n",
       "\n",
       "       Country Risk Premium  \n",
       "count            157.000000  \n",
       "mean               0.062178  \n",
       "std                0.049746  \n",
       "min                0.000000  \n",
       "25%                0.016000  \n",
       "50%                0.046000  \n",
       "75%                0.101000  \n",
       "max                0.185000  "
      ]
     },
     "execution_count": 6,
     "metadata": {},
     "output_type": "execute_result"
    }
   ],
   "source": [
    "data.describe()"
   ]
  },
  {
   "cell_type": "markdown",
   "metadata": {},
   "source": [
    "# Visualizations"
   ]
  },
  {
   "cell_type": "code",
   "execution_count": 7,
   "metadata": {},
   "outputs": [
    {
     "data": {
      "text/plain": [
       "<matplotlib.axes._subplots.AxesSubplot at 0x170757ffd08>"
      ]
     },
     "execution_count": 7,
     "metadata": {},
     "output_type": "execute_result"
    },
    {
     "data": {
      "image/png": "[encoded data removed]",
      "text/plain": [
       "<Figure size 720x432 with 1 Axes>"
      ]
     },
     "metadata": {
      "needs_background": "light"
     },
     "output_type": "display_data"
    }
   ],
   "source": [
    "data['Rating Coding'].plot(kind = 'hist', title = 'Rating Coding', alpha = 0.5, color=['red'])"
   ]
  },
  {
   "cell_type": "code",
   "execution_count": 8,
   "metadata": {},
   "outputs": [
    {
     "data": {
      "text/plain": [
       "<matplotlib.axes._subplots.AxesSubplot at 0x17075c8d8c8>"
      ]
     },
     "execution_count": 8,
     "metadata": {},
     "output_type": "execute_result"
    },
    {
     "data": {
      "image/png": "[encoded data removed]",
      "text/plain": [
       "<Figure size 720x432 with 1 Axes>"
      ]
     },
     "metadata": {
      "needs_background": "light"
     },
     "output_type": "display_data"
    }
   ],
   "source": [
    "data['Rating-based Default Spread'].plot(kind = 'hist', title = 'Rating-based Default Spread', alpha = 0.5, color=['blue'])"
   ]
  },
  {
   "cell_type": "code",
   "execution_count": 9,
   "metadata": {},
   "outputs": [
    {
     "data": {
      "text/plain": [
       "<matplotlib.axes._subplots.AxesSubplot at 0x17075b56e88>"
      ]
     },
     "execution_count": 9,
     "metadata": {},
     "output_type": "execute_result"
    },
    {
     "data": {
      "image/png": "[encoded data removed]",
      "text/plain": [
       "<Figure size 720x432 with 1 Axes>"
      ]
     },
     "metadata": {
      "needs_background": "light"
     },
     "output_type": "display_data"
    }
   ],
   "source": [
    "data['Total Equity Risk Premium'].plot(kind = 'hist', title = 'Total Equity Risk Premium', alpha = 0.5, color=['orange'])"
   ]
  },
  {
   "cell_type": "code",
   "execution_count": 10,
   "metadata": {},
   "outputs": [
    {
     "data": {
      "text/plain": [
       "<matplotlib.axes._subplots.AxesSubplot at 0x17075bde648>"
      ]
     },
     "execution_count": 10,
     "metadata": {},
     "output_type": "execute_result"
    },
    {
     "data": {
      "image/png": "[encoded data removed]",
      "text/plain": [
       "<Figure size 720x432 with 1 Axes>"
      ]
     },
     "metadata": {
      "needs_background": "light"
     },
     "output_type": "display_data"
    }
   ],
   "source": [
    "data['Country Risk Premium'].plot(kind = 'hist', title = 'Country Risk Premium', alpha = 0.5, color=['green'])"
   ]
  },
  {
   "cell_type": "code",
   "execution_count": 11,
   "metadata": {},
   "outputs": [
    {
     "data": {
      "text/plain": [
       "157"
      ]
     },
     "execution_count": 11,
     "metadata": {},
     "output_type": "execute_result"
    }
   ],
   "source": [
    "len(data['Country'].value_counts())"
   ]
  },
  {
   "cell_type": "markdown",
   "metadata": {},
   "source": [
    "# Principal Components Analysis"
   ]
  },
  {
   "cell_type": "markdown",
   "metadata": {},
   "source": [
    "### Scaled Feature Values"
   ]
  },
  {
   "cell_type": "code",
   "execution_count": 12,
   "metadata": {},
   "outputs": [
    {
     "data": {
      "text/html": [
       "<div>\n",
       "<style scoped>\n",
       "    .dataframe tbody tr th:only-of-type {\n",
       "        vertical-align: middle;\n",
       "    }\n",
       "\n",
       "    .dataframe tbody tr th {\n",
       "        vertical-align: top;\n",
       "    }\n",
       "\n",
       "    .dataframe thead th {\n",
       "        text-align: right;\n",
       "    }\n",
       "</style>\n",
       "<table border=\"1\" class=\"dataframe\">\n",
       "  <thead>\n",
       "    <tr style=\"text-align: right;\">\n",
       "      <th></th>\n",
       "      <th>Rating Coding</th>\n",
       "      <th>Rating-based Default Spread</th>\n",
       "      <th>Total Equity Risk Premium</th>\n",
       "      <th>Country Risk Premium</th>\n",
       "    </tr>\n",
       "  </thead>\n",
       "  <tbody>\n",
       "    <tr>\n",
       "      <th>0</th>\n",
       "      <td>-1.398011</td>\n",
       "      <td>-1.077139</td>\n",
       "      <td>-1.068996</td>\n",
       "      <td>-1.068996</td>\n",
       "    </tr>\n",
       "    <tr>\n",
       "      <th>1</th>\n",
       "      <td>0.649796</td>\n",
       "      <td>0.411731</td>\n",
       "      <td>0.398457</td>\n",
       "      <td>0.398457</td>\n",
       "    </tr>\n",
       "    <tr>\n",
       "      <th>2</th>\n",
       "      <td>-0.281025</td>\n",
       "      <td>-0.556034</td>\n",
       "      <td>-0.546341</td>\n",
       "      <td>-0.546341</td>\n",
       "    </tr>\n",
       "    <tr>\n",
       "      <th>3</th>\n",
       "      <td>1.022125</td>\n",
       "      <td>1.131351</td>\n",
       "      <td>1.142234</td>\n",
       "      <td>1.142234</td>\n",
       "    </tr>\n",
       "    <tr>\n",
       "      <th>4</th>\n",
       "      <td>1.766782</td>\n",
       "      <td>2.471334</td>\n",
       "      <td>2.468971</td>\n",
       "      <td>2.468971</td>\n",
       "    </tr>\n",
       "  </tbody>\n",
       "</table>\n",
       "</div>"
      ],
      "text/plain": [
       "   Rating Coding  Rating-based Default Spread  Total Equity Risk Premium  \\\n",
       "0      -1.398011                    -1.077139                  -1.068996   \n",
       "1       0.649796                     0.411731                   0.398457   \n",
       "2      -0.281025                    -0.556034                  -0.546341   \n",
       "3       1.022125                     1.131351                   1.142234   \n",
       "4       1.766782                     2.471334                   2.468971   \n",
       "\n",
       "   Country Risk Premium  \n",
       "0             -1.068996  \n",
       "1              0.398457  \n",
       "2             -0.546341  \n",
       "3              1.142234  \n",
       "4              2.468971  "
      ]
     },
     "execution_count": 12,
     "metadata": {},
     "output_type": "execute_result"
    }
   ],
   "source": [
    "X = data[['Rating Coding','Rating-based Default Spread',\n",
    "         'Total Equity Risk Premium','Country Risk Premium']]\n",
    "X = (X - X.mean()) / X.std()\n",
    "X.head()"
   ]
  },
  {
   "cell_type": "markdown",
   "metadata": {},
   "source": [
    "### Correlation matrix"
   ]
  },
  {
   "cell_type": "code",
   "execution_count": 13,
   "metadata": {},
   "outputs": [
    {
     "data": {
      "text/html": [
       "<div>\n",
       "<style scoped>\n",
       "    .dataframe tbody tr th:only-of-type {\n",
       "        vertical-align: middle;\n",
       "    }\n",
       "\n",
       "    .dataframe tbody tr th {\n",
       "        vertical-align: top;\n",
       "    }\n",
       "\n",
       "    .dataframe thead th {\n",
       "        text-align: right;\n",
       "    }\n",
       "</style>\n",
       "<table border=\"1\" class=\"dataframe\">\n",
       "  <thead>\n",
       "    <tr style=\"text-align: right;\">\n",
       "      <th></th>\n",
       "      <th>Rating Coding</th>\n",
       "      <th>Rating-based Default Spread</th>\n",
       "      <th>Total Equity Risk Premium</th>\n",
       "      <th>Country Risk Premium</th>\n",
       "    </tr>\n",
       "  </thead>\n",
       "  <tbody>\n",
       "    <tr>\n",
       "      <th>Rating Coding</th>\n",
       "      <td>1.000000</td>\n",
       "      <td>0.949274</td>\n",
       "      <td>0.94876</td>\n",
       "      <td>0.94876</td>\n",
       "    </tr>\n",
       "    <tr>\n",
       "      <th>Rating-based Default Spread</th>\n",
       "      <td>0.949274</td>\n",
       "      <td>1.000000</td>\n",
       "      <td>0.99996</td>\n",
       "      <td>0.99996</td>\n",
       "    </tr>\n",
       "    <tr>\n",
       "      <th>Total Equity Risk Premium</th>\n",
       "      <td>0.948760</td>\n",
       "      <td>0.999960</td>\n",
       "      <td>1.00000</td>\n",
       "      <td>1.00000</td>\n",
       "    </tr>\n",
       "    <tr>\n",
       "      <th>Country Risk Premium</th>\n",
       "      <td>0.948760</td>\n",
       "      <td>0.999960</td>\n",
       "      <td>1.00000</td>\n",
       "      <td>1.00000</td>\n",
       "    </tr>\n",
       "  </tbody>\n",
       "</table>\n",
       "</div>"
      ],
      "text/plain": [
       "                             Rating Coding  Rating-based Default Spread  \\\n",
       "Rating Coding                     1.000000                     0.949274   \n",
       "Rating-based Default Spread       0.949274                     1.000000   \n",
       "Total Equity Risk Premium         0.948760                     0.999960   \n",
       "Country Risk Premium              0.948760                     0.999960   \n",
       "\n",
       "                             Total Equity Risk Premium  Country Risk Premium  \n",
       "Rating Coding                                  0.94876               0.94876  \n",
       "Rating-based Default Spread                    0.99996               0.99996  \n",
       "Total Equity Risk Premium                      1.00000               1.00000  \n",
       "Country Risk Premium                           1.00000               1.00000  "
      ]
     },
     "execution_count": 13,
     "metadata": {},
     "output_type": "execute_result"
    }
   ],
   "source": [
    "a = X.corr()\n",
    "a"
   ]
  },
  {
   "cell_type": "markdown",
   "metadata": {},
   "source": [
    "### Eigenvectors"
   ]
  },
  {
   "cell_type": "code",
   "execution_count": 14,
   "metadata": {},
   "outputs": [
    {
     "data": {
      "text/plain": [
       "array([[ 4.90017472e-01,  8.71701874e-01,  4.32667504e-03,\n",
       "        -4.08394667e-15],\n",
       "       [ 5.03322869e-01, -2.78877903e-01, -8.17858915e-01,\n",
       "         2.76448082e-14],\n",
       "       [ 5.03263831e-01, -2.84923638e-01,  4.06871033e-01,\n",
       "        -7.07106781e-01],\n",
       "       [ 5.03263831e-01, -2.84923638e-01,  4.06871033e-01,\n",
       "         7.07106781e-01]])"
      ]
     },
     "execution_count": 14,
     "metadata": {},
     "output_type": "execute_result"
    }
   ],
   "source": [
    "from numpy import linalg as LA\n",
    "\n",
    "w, v = LA.eig([a[\"Rating Coding\"],a[\"Rating-based Default Spread\"]\n",
    "               ,a[\"Total Equity Risk Premium\"],a[\"Country Risk Premium\"]])\n",
    "v"
   ]
  },
  {
   "cell_type": "markdown",
   "metadata": {},
   "source": [
    "### Eigenvalues"
   ]
  },
  {
   "cell_type": "code",
   "execution_count": 15,
   "metadata": {},
   "outputs": [
    {
     "data": {
      "text/plain": [
       "array([[3.92386491e+00, 0.00000000e+00, 0.00000000e+00, 0.00000000e+00],\n",
       "       [0.00000000e+00, 7.60831323e-02, 0.00000000e+00, 0.00000000e+00],\n",
       "       [0.00000000e+00, 0.00000000e+00, 5.19606480e-05, 0.00000000e+00],\n",
       "       [0.00000000e+00, 0.00000000e+00, 0.00000000e+00, 2.22045074e-16]])"
      ]
     },
     "execution_count": 15,
     "metadata": {},
     "output_type": "execute_result"
    }
   ],
   "source": [
    "b = np.diag(w)\n",
    "b"
   ]
  },
  {
   "cell_type": "markdown",
   "metadata": {},
   "source": [
    "### Variance of factor score"
   ]
  },
  {
   "cell_type": "code",
   "execution_count": 16,
   "metadata": {},
   "outputs": [
    {
     "name": "stdout",
     "output_type": "stream",
     "text": [
      "Variance of factor score for Rating Coding is: 3.92386490707216\n",
      "Variance of factor score for Rating-based Default Spread is: 0.07608313227982277\n",
      "Variance of factor score for Total Equity Risk Premium is: 5.196064801424692e-05\n",
      "Variance of factor score for Country Risk Premium is: 2.2204507431265497e-16\n"
     ]
    }
   ],
   "source": [
    "c=w\n",
    "d,e,f,g = c[0],c[1],c[2],c[3]\n",
    "print(\"Variance of factor score for\",'Rating Coding',\"is:\",d)\n",
    "print(\"Variance of factor score for\",'Rating-based Default Spread',\"is:\",e)\n",
    "print(\"Variance of factor score for\",'Total Equity Risk Premium',\"is:\",f)\n",
    "print(\"Variance of factor score for\",'Country Risk Premium',\"is:\",g)"
   ]
  },
  {
   "cell_type": "markdown",
   "metadata": {},
   "source": [
    "### Percent of Variance"
   ]
  },
  {
   "cell_type": "code",
   "execution_count": 17,
   "metadata": {},
   "outputs": [
    {
     "name": "stdout",
     "output_type": "stream",
     "text": [
      "Rating Coding alone accounts for 98.10% of the variance\n",
      "Rating-based Default Spread alone accounts for 1.90% of the variance\n",
      "Total Equity Risk Premium alone accounts for 0.00% of the variance\n",
      "Country Risk Premium alone accounts for 0.00% of the variance\n"
     ]
    }
   ],
   "source": [
    "h, i, j, k = d/len(c), e/len(c), f/len(c), g/len(c)\n",
    "print('Rating Coding', \"alone accounts for\",'{:.2%}'.format(h),\"of the variance\")\n",
    "print('Rating-based Default Spread',\"alone accounts for\",'{:.2%}'.format(i),\"of the variance\")\n",
    "print('Total Equity Risk Premium', \"alone accounts for\",'{:.2%}'.format(j),\"of the variance\")\n",
    "print('Country Risk Premium', \"alone accounts for\",'{:.2%}'.format(k),\"of the variance\")"
   ]
  },
  {
   "cell_type": "code",
   "execution_count": 18,
   "metadata": {},
   "outputs": [
    {
     "name": "stdout",
     "output_type": "stream",
     "text": [
      "Rating Coding accounts for 98.10% of the variance\n",
      "Rating Coding and Rating-based Default Spread together account for over 100.00% of\n",
      " the variance\n",
      "Rating Coding Rating-based Default Spread and Total Equity Risk Premium together\n",
      " account for over 100.00% of the variance\n",
      "Rating Coding Rating-based Default Spread Total Equity Risk Premium and Country\n",
      " Risk Premium together account for exactly 100.00% of the variance\n"
     ]
    }
   ],
   "source": [
    "l = float(h)+float(i)\n",
    "m = float(h)+float(i)+float(j)\n",
    "n = float(h)+float(i)+float(j)+float(k)\n",
    "print('Rating Coding',\"accounts for\",'{:.2%}'.format(h),\"of the variance\")\n",
    "print('Rating Coding',\"and\",'Rating-based Default Spread',\"together account for over\",'{:.2%}'.format(l),\"of\\n the variance\")\n",
    "print('Rating Coding','Rating-based Default Spread',\"and\",'Total Equity Risk Premium',\"together\\n account for over\",'{:.2%}'.format(m),\"of the variance\")\n",
    "print('Rating Coding','Rating-based Default Spread','Total Equity Risk Premium',\"and\",'Country\\n Risk Premium',\"together account for exactly\",'{:.2%}'.format(n),\"of the variance\")"
   ]
  },
  {
   "cell_type": "markdown",
   "metadata": {},
   "source": [
    "# Cluster Analysis with K-means"
   ]
  },
  {
   "cell_type": "markdown",
   "metadata": {},
   "source": [
    "The marginal gain of adding one cluster dropped quite a bit from k=3 to k=4. We will choose k=3 (not a clear cut though)."
   ]
  },
  {
   "cell_type": "code",
   "execution_count": 19,
   "metadata": {},
   "outputs": [
    {
     "data": {
      "image/png": "[encoded data removed]",
      "text/plain": [
       "<Figure size 720x432 with 1 Axes>"
      ]
     },
     "metadata": {
      "needs_background": "light"
     },
     "output_type": "display_data"
    }
   ],
   "source": [
    "# https://stackoverflow.com/questions/41540751/sklearn-kmeans-equivalent-of-elbow-method\n",
    "\n",
    "Ks = range(1, 10)\n",
    "inertia = [KMeans(i).fit(X).inertia_ for i in Ks]\n",
    "\n",
    "fig = plt.figure()\n",
    "plt.plot(Ks, inertia, '-bo')\n",
    "plt.xlabel('Number of clusters')\n",
    "plt.ylabel('Inertia (within-cluster sum of squares)')\n",
    "plt.show()"
   ]
  },
  {
   "cell_type": "markdown",
   "metadata": {},
   "source": [
    "## K means with k=3"
   ]
  },
  {
   "cell_type": "code",
   "execution_count": 20,
   "metadata": {},
   "outputs": [
    {
     "name": "stdout",
     "output_type": "stream",
     "text": [
      "inertia for k=3 is 88.86146532795854\n",
      "cluster centers:  [[ 0.21667948 -0.11899536 -0.12132586 -0.12132586]\n",
      " [ 1.06592843  1.22477032  1.22658361  1.22658361]\n",
      " [-1.13999376 -0.99355287 -0.99317188 -0.99317188]]\n",
      "cluster labels:  [2 0 0 1 1 0 2 2 2 0 0 1 0 1 1 2 1 1 2 0 1 2 0 0 1 1 1 2 1 2 2 2 0 1 1 0 1\n",
      " 0 0 1 2 0 2 2 0 1 1 1 2 0 0 2 2 1 0 2 1 0 0 2 0 2 0 2 0 0 1 2 2 2 0 1 2 2\n",
      " 0 0 1 2 2 1 1 2 1 2 2 2 2 0 2 1 1 2 2 2 1 1 0 0 0 1 0 2 2 1 1 1 2 0 1 2 1\n",
      " 0 2 0 2 0 2 1 0 0 1 2 0 0 0 2 2 2 1 0 2 1 0 1 1 1 2 2 2 1 0 2 1 0 1 0 2 1\n",
      " 1 2 2 2 0 0 1 0 1]\n"
     ]
    }
   ],
   "source": [
    "k = 3\n",
    "kmeans = KMeans(n_clusters=k, random_state=0)\n",
    "kmeans.fit(X)\n",
    "\n",
    "# print inertia & cluster center\n",
    "print(\"inertia for k=3 is\", kmeans.inertia_)\n",
    "print(\"cluster centers: \", kmeans.cluster_centers_)\n",
    "\n",
    "# take a quick look at the result\n",
    "y = kmeans.labels_\n",
    "print(\"cluster labels: \", y)"
   ]
  },
  {
   "cell_type": "markdown",
   "metadata": {},
   "source": [
    "## Visualize the result (3D plot)"
   ]
  },
  {
   "cell_type": "code",
   "execution_count": 21,
   "metadata": {},
   "outputs": [
    {
     "data": {
      "image/png": "[encoded data removed]",
      "text/plain": [
       "<Figure size 720x432 with 1 Axes>"
      ]
     },
     "metadata": {
      "needs_background": "light"
     },
     "output_type": "display_data"
    }
   ],
   "source": [
    "# set up the color\n",
    "norm = clrs.Normalize(vmin=0.,vmax=y.max() + 0.8)\n",
    "cmap = cm.viridis\n",
    "\n",
    "fig = plt.figure()\n",
    "ax = fig.add_subplot(111, projection='3d')\n",
    "\n",
    "ax.scatter(X.iloc[:,0], X.iloc[:,1], X.iloc[:,2], c=cmap(norm(y)), marker='o')\n",
    "\n",
    "centers = kmeans.cluster_centers_\n",
    "ax.scatter(centers[:, 0], centers[:, 1], c='black', s=100, alpha=0.5)\n",
    "\n",
    "ax.set_xlabel('Rating Coding')\n",
    "ax.set_ylabel('Rating-based Default Spread')\n",
    "ax.set_zlabel('Total Equity Risk Premium')\n",
    "\n",
    "plt.show()"
   ]
  },
  {
   "cell_type": "markdown",
   "metadata": {},
   "source": [
    "## Visualize the result (3 2D plots)"
   ]
  },
  {
   "cell_type": "code",
   "execution_count": 22,
   "metadata": {},
   "outputs": [
    {
     "data": {
      "image/png": "[encoded data removed]",
      "text/plain": [
       "<Figure size 432x288 with 1 Axes>"
      ]
     },
     "metadata": {
      "needs_background": "light"
     },
     "output_type": "display_data"
    },
    {
     "data": {
      "image/png": "[encoded data removed]",
      "text/plain": [
       "<Figure size 432x288 with 1 Axes>"
      ]
     },
     "metadata": {
      "needs_background": "light"
     },
     "output_type": "display_data"
    },
    {
     "data": {
      "image/png": "[encoded data removed]",
      "text/plain": [
       "<Figure size 432x288 with 1 Axes>"
      ]
     },
     "metadata": {
      "needs_background": "light"
     },
     "output_type": "display_data"
    }
   ],
   "source": [
    "%matplotlib inline\n",
    "import matplotlib.pyplot as plt\n",
    "\n",
    "figs = [(0, 1), (0, 2), (1, 2)]\n",
    "labels = ['Rating Coding', 'Rating-based Default Spread', 'Total Equity Risk Premium']\n",
    "\n",
    "for i in range(3):\n",
    "    fig = plt.figure(i)\n",
    "    plt.scatter(X.iloc[:,figs[i][0]], X.iloc[:,figs[i][1]], c=cmap(norm(y)), s=50)\n",
    "    plt.scatter(centers[:, figs[i][0]], centers[:, figs[i][1]], c='black', s=200, alpha=0.5)\n",
    "    plt.xlabel(labels[figs[i][0]])\n",
    "    plt.ylabel(labels[figs[i][1]])\n",
    "\n",
    "plt.show()"
   ]
  },
  {
   "cell_type": "markdown",
   "metadata": {},
   "source": [
    "## Visualize the result (3 2D plots)"
   ]
  },
  {
   "cell_type": "code",
   "execution_count": 23,
   "metadata": {},
   "outputs": [
    {
     "data": {
      "image/png": "[encoded data removed]",
      "text/plain": [
       "<Figure size 576x576 with 1 Axes>"
      ]
     },
     "metadata": {
      "needs_background": "light"
     },
     "output_type": "display_data"
    },
    {
     "data": {
      "image/png": "[encoded data removed]",
      "text/plain": [
       "<Figure size 576x576 with 1 Axes>"
      ]
     },
     "metadata": {
      "needs_background": "light"
     },
     "output_type": "display_data"
    },
    {
     "data": {
      "image/png": "[encoded data removed]",
      "text/plain": [
       "<Figure size 576x576 with 1 Axes>"
      ]
     },
     "metadata": {
      "needs_background": "light"
     },
     "output_type": "display_data"
    }
   ],
   "source": [
    "import matplotlib.pyplot as plt\n",
    "\n",
    "figs = [(0, 1), (0, 2), (1, 2)]\n",
    "labels = ['Rating Coding', 'Rating-based Default Spread', 'Total Equity Risk Premium']\n",
    "colors = ['blue','green', 'red']\n",
    "\n",
    "for i in range(3):\n",
    "    fig = plt.figure(i, figsize=(8, 8))\n",
    "    x_1 = figs[i][0]\n",
    "    x_2 = figs[i][1]\n",
    "    plt.scatter(X.iloc[:, x_1], X.iloc[:, x_2], c=y, s=0, alpha=0)\n",
    "    plt.scatter(centers[:, x_1], centers[:, x_2], c='black', s=200, alpha=0.5)\n",
    "    for j in range(X.shape[0]):\n",
    "        plt.text(X.iloc[j, x_1], X.iloc[j, x_2], data[\"Moody's rating\"].iloc[j], \n",
    "                 color=colors[y[j]], weight='semibold', horizontalalignment = 'center', verticalalignment = 'center')\n",
    "    plt.xlabel(labels[x_1])\n",
    "    plt.ylabel(labels[x_2])\n",
    "\n",
    "plt.show()"
   ]
  },
  {
   "cell_type": "code",
   "execution_count": 24,
   "metadata": {},
   "outputs": [
    {
     "data": {
      "text/html": [
       "<div>\n",
       "<style scoped>\n",
       "    .dataframe tbody tr th:only-of-type {\n",
       "        vertical-align: middle;\n",
       "    }\n",
       "\n",
       "    .dataframe tbody tr th {\n",
       "        vertical-align: top;\n",
       "    }\n",
       "\n",
       "    .dataframe thead th {\n",
       "        text-align: right;\n",
       "    }\n",
       "</style>\n",
       "<table border=\"1\" class=\"dataframe\">\n",
       "  <thead>\n",
       "    <tr style=\"text-align: right;\">\n",
       "      <th></th>\n",
       "      <th>Country</th>\n",
       "      <th>Label</th>\n",
       "    </tr>\n",
       "  </thead>\n",
       "  <tbody>\n",
       "    <tr>\n",
       "      <th>0</th>\n",
       "      <td>Abu Dhabi</td>\n",
       "      <td>2</td>\n",
       "    </tr>\n",
       "    <tr>\n",
       "      <th>1</th>\n",
       "      <td>Albania</td>\n",
       "      <td>0</td>\n",
       "    </tr>\n",
       "    <tr>\n",
       "      <th>2</th>\n",
       "      <td>Andorra (Principality of)</td>\n",
       "      <td>0</td>\n",
       "    </tr>\n",
       "    <tr>\n",
       "      <th>3</th>\n",
       "      <td>Angola</td>\n",
       "      <td>1</td>\n",
       "    </tr>\n",
       "    <tr>\n",
       "      <th>4</th>\n",
       "      <td>Argentina</td>\n",
       "      <td>1</td>\n",
       "    </tr>\n",
       "    <tr>\n",
       "      <th>...</th>\n",
       "      <td>...</td>\n",
       "      <td>...</td>\n",
       "    </tr>\n",
       "    <tr>\n",
       "      <th>152</th>\n",
       "      <td>Uruguay</td>\n",
       "      <td>0</td>\n",
       "    </tr>\n",
       "    <tr>\n",
       "      <th>153</th>\n",
       "      <td>Uzbekistan</td>\n",
       "      <td>0</td>\n",
       "    </tr>\n",
       "    <tr>\n",
       "      <th>154</th>\n",
       "      <td>Venezuela</td>\n",
       "      <td>1</td>\n",
       "    </tr>\n",
       "    <tr>\n",
       "      <th>155</th>\n",
       "      <td>Vietnam</td>\n",
       "      <td>0</td>\n",
       "    </tr>\n",
       "    <tr>\n",
       "      <th>156</th>\n",
       "      <td>Zambia</td>\n",
       "      <td>1</td>\n",
       "    </tr>\n",
       "  </tbody>\n",
       "</table>\n",
       "<p>157 rows × 2 columns</p>\n",
       "</div>"
      ],
      "text/plain": [
       "                       Country  Label\n",
       "0                    Abu Dhabi      2\n",
       "1                      Albania      0\n",
       "2    Andorra (Principality of)      0\n",
       "3                       Angola      1\n",
       "4                    Argentina      1\n",
       "..                         ...    ...\n",
       "152                    Uruguay      0\n",
       "153                 Uzbekistan      0\n",
       "154                  Venezuela      1\n",
       "155                    Vietnam      0\n",
       "156                     Zambia      1\n",
       "\n",
       "[157 rows x 2 columns]"
      ]
     },
     "execution_count": 24,
     "metadata": {},
     "output_type": "execute_result"
    }
   ],
   "source": [
    "cluster = pd.DataFrame({'Country':data['Country'], 'Label':y})\n",
    "cluster"
   ]
  },
  {
   "cell_type": "markdown",
   "metadata": {},
   "source": [
    "Cluster the country into three groups: 0. high country risk, 1. mid country risk, 2. low country risk"
   ]
  },
  {
   "cell_type": "code",
   "execution_count": 25,
   "metadata": {},
   "outputs": [
    {
     "data": {
      "text/plain": [
       "array(['Albania', 'Andorra (Principality of)', 'Armenia', 'Azerbaijan',\n",
       "       'Bahamas', 'Bangladesh', 'Bolivia', 'Brazil', 'Bulgaria',\n",
       "       'Colombia', 'Cook Islands', \"C?te d'Ivoire\", 'Croatia', 'Cyprus',\n",
       "       'Dominican Republic', 'Ethiopia', 'Fiji', 'Georgia', 'Greece',\n",
       "       'Guatemala', 'Honduras', 'Hungary', 'India', 'Indonesia', 'Italy',\n",
       "       'Jordan', 'Kazakhstan', 'Macedonia', 'Montenegro', 'Montserrat',\n",
       "       'Morocco', 'Namibia', 'Oman', 'Paraguay', 'Philippines',\n",
       "       'Portugal', 'Romania', 'Russia', 'Senegal', 'Serbia', 'Sharjah',\n",
       "       'South Africa', 'St. Maarten', 'Tanzania', 'Trinidad and Tobago',\n",
       "       'Turkey', 'Uruguay', 'Uzbekistan', 'Vietnam'], dtype=object)"
      ]
     },
     "execution_count": 25,
     "metadata": {},
     "output_type": "execute_result"
    }
   ],
   "source": [
    "cluster1 = cluster[cluster.Label == 0]\n",
    "cluster1['Country'].values"
   ]
  },
  {
   "cell_type": "code",
   "execution_count": 26,
   "metadata": {},
   "outputs": [
    {
     "data": {
      "text/plain": [
       "array(['Angola', 'Argentina', 'Bahrain', 'Barbados', 'Belarus', 'Belize',\n",
       "       'Benin', 'Bosnia and Herzegovina', 'Burkina Faso', 'Cambodia',\n",
       "       'Cameroon', 'Cape Verde', 'Congo (Democratic Republic of)',\n",
       "       'Congo (Republic of)', 'Costa Rica', 'Cuba', 'Ecuador', 'Egypt',\n",
       "       'El Salvador', 'Gabon', 'Ghana', 'Iraq', 'Jamaica', 'Kenya',\n",
       "       'Kyrgyzstan', 'Laos', 'Lebanon', 'Maldives', 'Mali', 'Moldova',\n",
       "       'Mongolia', 'Mozambique', 'Nicaragua', 'Niger', 'Nigeria',\n",
       "       'Pakistan', 'Papua New Guinea', 'Ras Al Khaimah (Emirate of)',\n",
       "       'Rwanda', 'Solomon Islands', 'Sri Lanka',\n",
       "       'St. Vincent & the Grenadines', 'Suriname', 'Swaziland',\n",
       "       'Tajikistan', 'Togo', 'Tunisia', 'Uganda', 'Ukraine', 'Venezuela',\n",
       "       'Zambia'], dtype=object)"
      ]
     },
     "execution_count": 26,
     "metadata": {},
     "output_type": "execute_result"
    }
   ],
   "source": [
    "cluster2 = cluster[cluster.Label == 1]\n",
    "cluster2['Country'].values"
   ]
  },
  {
   "cell_type": "code",
   "execution_count": 27,
   "metadata": {},
   "outputs": [
    {
     "data": {
      "text/plain": [
       "array(['Abu Dhabi', 'Aruba', 'Australia', 'Austria', 'Belgium', 'Bermuda',\n",
       "       'Botswana', 'Canada', 'Cayman Islands', 'Chile', 'China',\n",
       "       'Curacao', 'Czech Republic', 'Denmark', 'Estonia', 'Finland',\n",
       "       'France', 'Germany', 'Guernsey (States of)', 'Hong Kong',\n",
       "       'Iceland', 'Ireland', 'Isle of Man', 'Israel', 'Japan',\n",
       "       'Jersey (States of)', 'Korea', 'Kuwait', 'Latvia', 'Liechtenstein',\n",
       "       'Lithuania', 'Luxembourg', 'Macao', 'Malaysia', 'Malta',\n",
       "       'Mauritius', 'Mexico', 'Netherlands', 'New Zealand', 'Norway',\n",
       "       'Panama', 'Peru', 'Poland', 'Qatar', 'Saudi Arabia', 'Singapore',\n",
       "       'Slovakia', 'Slovenia', 'Spain', 'Sweden', 'Switzerland', 'Taiwan',\n",
       "       'Thailand', 'Turks and Caicos Islands', 'United Arab Emirates',\n",
       "       'United Kingdom', 'United States'], dtype=object)"
      ]
     },
     "execution_count": 27,
     "metadata": {},
     "output_type": "execute_result"
    }
   ],
   "source": [
    "cluster3 = cluster[cluster.Label == 2]\n",
    "cluster3['Country'].values"
   ]
  },
  {
   "cell_type": "code",
   "execution_count": 28,
   "metadata": {},
   "outputs": [],
   "source": [
    "def get_group(x):\n",
    "    if x in cluster1['Country'].values:\n",
    "        return 'High'\n",
    "    elif x in cluster2['Country'].values:\n",
    "        return 'Mid'\n",
    "    else:\n",
    "        return 'Low'\n",
    "data['Risk'] = data.Country.apply(get_group)"
   ]
  },
  {
   "cell_type": "code",
   "execution_count": 29,
   "metadata": {},
   "outputs": [
    {
     "data": {
      "text/html": [
       "<div>\n",
       "<style scoped>\n",
       "    .dataframe tbody tr th:only-of-type {\n",
       "        vertical-align: middle;\n",
       "    }\n",
       "\n",
       "    .dataframe tbody tr th {\n",
       "        vertical-align: top;\n",
       "    }\n",
       "\n",
       "    .dataframe thead th {\n",
       "        text-align: right;\n",
       "    }\n",
       "</style>\n",
       "<table border=\"1\" class=\"dataframe\">\n",
       "  <thead>\n",
       "    <tr style=\"text-align: right;\">\n",
       "      <th></th>\n",
       "      <th>Country</th>\n",
       "      <th>Moody's rating</th>\n",
       "      <th>Rating Coding</th>\n",
       "      <th>Rating-based Default Spread</th>\n",
       "      <th>Total Equity Risk Premium</th>\n",
       "      <th>Country Risk Premium</th>\n",
       "      <th>Risk</th>\n",
       "    </tr>\n",
       "  </thead>\n",
       "  <tbody>\n",
       "    <tr>\n",
       "      <th>0</th>\n",
       "      <td>Abu Dhabi</td>\n",
       "      <td>Aa2</td>\n",
       "      <td>3</td>\n",
       "      <td>0.007</td>\n",
       "      <td>0.069</td>\n",
       "      <td>0.009</td>\n",
       "      <td>Low</td>\n",
       "    </tr>\n",
       "    <tr>\n",
       "      <th>1</th>\n",
       "      <td>Albania</td>\n",
       "      <td>B1</td>\n",
       "      <td>14</td>\n",
       "      <td>0.067</td>\n",
       "      <td>0.142</td>\n",
       "      <td>0.082</td>\n",
       "      <td>High</td>\n",
       "    </tr>\n",
       "    <tr>\n",
       "      <th>2</th>\n",
       "      <td>Andorra (Principality of)</td>\n",
       "      <td>Baa2</td>\n",
       "      <td>9</td>\n",
       "      <td>0.028</td>\n",
       "      <td>0.095</td>\n",
       "      <td>0.035</td>\n",
       "      <td>High</td>\n",
       "    </tr>\n",
       "    <tr>\n",
       "      <th>3</th>\n",
       "      <td>Angola</td>\n",
       "      <td>B3</td>\n",
       "      <td>16</td>\n",
       "      <td>0.096</td>\n",
       "      <td>0.179</td>\n",
       "      <td>0.119</td>\n",
       "      <td>Mid</td>\n",
       "    </tr>\n",
       "    <tr>\n",
       "      <th>4</th>\n",
       "      <td>Argentina</td>\n",
       "      <td>Ca</td>\n",
       "      <td>20</td>\n",
       "      <td>0.150</td>\n",
       "      <td>0.245</td>\n",
       "      <td>0.185</td>\n",
       "      <td>Mid</td>\n",
       "    </tr>\n",
       "  </tbody>\n",
       "</table>\n",
       "</div>"
      ],
      "text/plain": [
       "                     Country Moody's rating  Rating Coding  \\\n",
       "0                  Abu Dhabi            Aa2              3   \n",
       "1                    Albania             B1             14   \n",
       "2  Andorra (Principality of)           Baa2              9   \n",
       "3                     Angola             B3             16   \n",
       "4                  Argentina             Ca             20   \n",
       "\n",
       "   Rating-based Default Spread  Total Equity Risk Premium  \\\n",
       "0                        0.007                      0.069   \n",
       "1                        0.067                      0.142   \n",
       "2                        0.028                      0.095   \n",
       "3                        0.096                      0.179   \n",
       "4                        0.150                      0.245   \n",
       "\n",
       "   Country Risk Premium  Risk  \n",
       "0                 0.009   Low  \n",
       "1                 0.082  High  \n",
       "2                 0.035  High  \n",
       "3                 0.119   Mid  \n",
       "4                 0.185   Mid  "
      ]
     },
     "execution_count": 29,
     "metadata": {},
     "output_type": "execute_result"
    }
   ],
   "source": [
    "data.head()"
   ]
  },
  {
   "cell_type": "code",
   "execution_count": 30,
   "metadata": {},
   "outputs": [
    {
     "data": {
      "text/html": [
       "<div>\n",
       "<style scoped>\n",
       "    .dataframe tbody tr th:only-of-type {\n",
       "        vertical-align: middle;\n",
       "    }\n",
       "\n",
       "    .dataframe tbody tr th {\n",
       "        vertical-align: top;\n",
       "    }\n",
       "\n",
       "    .dataframe thead th {\n",
       "        text-align: right;\n",
       "    }\n",
       "</style>\n",
       "<table border=\"1\" class=\"dataframe\">\n",
       "  <thead>\n",
       "    <tr style=\"text-align: right;\">\n",
       "      <th></th>\n",
       "      <th>Country</th>\n",
       "      <th>Moody's rating</th>\n",
       "      <th>Rating Coding</th>\n",
       "      <th>Rating-based Default Spread</th>\n",
       "      <th>Total Equity Risk Premium</th>\n",
       "      <th>Country Risk Premium</th>\n",
       "      <th>Risk</th>\n",
       "    </tr>\n",
       "  </thead>\n",
       "  <tbody>\n",
       "    <tr>\n",
       "      <th>152</th>\n",
       "      <td>Uruguay</td>\n",
       "      <td>Baa2</td>\n",
       "      <td>9</td>\n",
       "      <td>0.028</td>\n",
       "      <td>0.095</td>\n",
       "      <td>0.035</td>\n",
       "      <td>High</td>\n",
       "    </tr>\n",
       "    <tr>\n",
       "      <th>153</th>\n",
       "      <td>Uzbekistan</td>\n",
       "      <td>B1</td>\n",
       "      <td>14</td>\n",
       "      <td>0.067</td>\n",
       "      <td>0.142</td>\n",
       "      <td>0.082</td>\n",
       "      <td>High</td>\n",
       "    </tr>\n",
       "    <tr>\n",
       "      <th>154</th>\n",
       "      <td>Venezuela</td>\n",
       "      <td>C</td>\n",
       "      <td>21</td>\n",
       "      <td>0.150</td>\n",
       "      <td>0.245</td>\n",
       "      <td>0.185</td>\n",
       "      <td>Mid</td>\n",
       "    </tr>\n",
       "    <tr>\n",
       "      <th>155</th>\n",
       "      <td>Vietnam</td>\n",
       "      <td>Ba3</td>\n",
       "      <td>13</td>\n",
       "      <td>0.053</td>\n",
       "      <td>0.126</td>\n",
       "      <td>0.066</td>\n",
       "      <td>High</td>\n",
       "    </tr>\n",
       "    <tr>\n",
       "      <th>156</th>\n",
       "      <td>Zambia</td>\n",
       "      <td>Ca</td>\n",
       "      <td>20</td>\n",
       "      <td>0.150</td>\n",
       "      <td>0.245</td>\n",
       "      <td>0.185</td>\n",
       "      <td>Mid</td>\n",
       "    </tr>\n",
       "  </tbody>\n",
       "</table>\n",
       "</div>"
      ],
      "text/plain": [
       "        Country Moody's rating  Rating Coding  Rating-based Default Spread  \\\n",
       "152     Uruguay           Baa2              9                        0.028   \n",
       "153  Uzbekistan             B1             14                        0.067   \n",
       "154   Venezuela              C             21                        0.150   \n",
       "155     Vietnam            Ba3             13                        0.053   \n",
       "156      Zambia             Ca             20                        0.150   \n",
       "\n",
       "     Total Equity Risk Premium  Country Risk Premium  Risk  \n",
       "152                      0.095                 0.035  High  \n",
       "153                      0.142                 0.082  High  \n",
       "154                      0.245                 0.185   Mid  \n",
       "155                      0.126                 0.066  High  \n",
       "156                      0.245                 0.185   Mid  "
      ]
     },
     "execution_count": 30,
     "metadata": {},
     "output_type": "execute_result"
    }
   ],
   "source": [
    "data.tail()"
   ]
  },
  {
   "cell_type": "code",
   "execution_count": 31,
   "metadata": {},
   "outputs": [],
   "source": [
    "data.to_csv('country_risk.csv', index=False, encoding='utf-8')"
   ]
  }
 ],
 "metadata": {
  "kernelspec": {
   "display_name": "Python 3",
   "language": "python",
   "name": "python3"
  },
  "language_info": {
   "codemirror_mode": {
    "name": "ipython",
    "version": 3
   },
   "file_extension": ".py",
   "mimetype": "text/x-python",
   "name": "python",
   "nbconvert_exporter": "python",
   "pygments_lexer": "ipython3",
   "version": "3.7.6"
  }
 },
 "nbformat": 4,
 "nbformat_minor": 4
}
